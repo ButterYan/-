{
 "cells": [
  {
   "cell_type": "code",
   "execution_count": 47,
   "metadata": {},
   "outputs": [],
   "source": [
    "import re\n",
    "raw_file=\"name.md\"  #输入需转换的文件名\n",
    "made_file=\"name2.md\"     #给转换后的文件命名\n",
    "with open(raw_file,\"r\",encoding=\"utf-8\") as f:  #utf-8或gbk\n",
    "    s = f.read()\n",
    "t = re.sub(r\"\\!\\[(.*)\\]\\(.*?\\)\\1\",r\"$\\1$\",s)\n",
    "with open(made_file,\"w\",encoding='utf-8') as f:  #encoding='utf-8'\n",
    "    f.write(t)\n"
   ]
  },
  {
   "cell_type": "code",
   "execution_count": null,
   "metadata": {},
   "outputs": [],
   "source": []
  }
 ],
 "metadata": {
  "kernelspec": {
   "display_name": "Python 3",
   "language": "python",
   "name": "python3"
  },
  "language_info": {
   "codemirror_mode": {
    "name": "ipython",
    "version": 3
   },
   "file_extension": ".py",
   "mimetype": "text/x-python",
   "name": "python",
   "nbconvert_exporter": "python",
   "pygments_lexer": "ipython3",
   "version": "3.8.5"
  }
 },
 "nbformat": 4,
 "nbformat_minor": 2
}
